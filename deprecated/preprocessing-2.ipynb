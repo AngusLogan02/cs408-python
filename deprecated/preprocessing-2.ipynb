{
 "cells": [
  {
   "cell_type": "code",
   "execution_count": 2,
   "metadata": {},
   "outputs": [
    {
     "name": "stdout",
     "output_type": "stream",
     "text": [
      "Extracting EDF parameters from c:\\Users\\angus\\Documents\\cs408-eeg-python\\dataset\\chb-mit-scalp-eeg-database-1.0.0\\chb01\\chb01_03.edf...\n",
      "EDF file detected\n",
      "Setting channel info structure...\n",
      "Creating raw.info structure...\n",
      "Reading 0 ... 921599  =      0.000 ...  3599.996 secs...\n"
     ]
    },
    {
     "name": "stderr",
     "output_type": "stream",
     "text": [
      "C:\\Users\\angus\\AppData\\Local\\Temp\\ipykernel_6016\\3068981748.py:2: RuntimeWarning: Channel names are not unique, found duplicates for: {'T8-P8'}. Applying running numbers for duplicates.\n",
      "  raw = mne.io.read_raw_edf(\"dataset/chb-mit-scalp-eeg-database-1.0.0/chb01/chb01_03.edf\")\n"
     ]
    },
    {
     "data": {
      "text/html": [
       "<table class=\"table table-hover table-striped table-sm table-responsive small\">\n",
       "    <tr>\n",
       "        <th>Measurement date</th>\n",
       "        \n",
       "        <td>November 06, 2076  13:43:04 GMT</td>\n",
       "        \n",
       "    </tr>\n",
       "    <tr>\n",
       "        <th>Experimenter</th>\n",
       "        \n",
       "        <td>Unknown</td>\n",
       "        \n",
       "    </tr>\n",
       "        <th>Participant</th>\n",
       "        \n",
       "            \n",
       "            <td>Surrogate</td>\n",
       "            \n",
       "        \n",
       "    </tr>\n",
       "    <tr>\n",
       "        <th>Digitized points</th>\n",
       "        \n",
       "        <td>Not available</td>\n",
       "        \n",
       "    </tr>\n",
       "    <tr>\n",
       "        <th>Good channels</th>\n",
       "        <td>23 EEG</td>\n",
       "    </tr>\n",
       "    <tr>\n",
       "        <th>Bad channels</th>\n",
       "        <td>None</td>\n",
       "    </tr>\n",
       "    <tr>\n",
       "        <th>EOG channels</th>\n",
       "        <td>Not available</td>\n",
       "    </tr>\n",
       "    <tr>\n",
       "        <th>ECG channels</th>\n",
       "        <td>Not available</td>\n",
       "    \n",
       "    <tr>\n",
       "        <th>Sampling frequency</th>\n",
       "        <td>256.00 Hz</td>\n",
       "    </tr>\n",
       "    \n",
       "    \n",
       "    <tr>\n",
       "        <th>Highpass</th>\n",
       "        <td>0.00 Hz</td>\n",
       "    </tr>\n",
       "    \n",
       "    \n",
       "    <tr>\n",
       "        <th>Lowpass</th>\n",
       "        <td>128.00 Hz</td>\n",
       "    </tr>\n",
       "    \n",
       "    \n",
       "    \n",
       "    <tr>\n",
       "        <th>Filenames</th>\n",
       "        <td>chb01_03.edf</td>\n",
       "    </tr>\n",
       "    \n",
       "    <tr>\n",
       "        <th>Duration</th>\n",
       "        <td>00:59:60 (HH:MM:SS)</td>\n",
       "    </tr>\n",
       "</table>"
      ],
      "text/plain": [
       "<RawEDF | chb01_03.edf, 23 x 921600 (3600.0 s), ~161.7 MB, data loaded>"
      ]
     },
     "execution_count": 2,
     "metadata": {},
     "output_type": "execute_result"
    }
   ],
   "source": [
    "import mne\n",
    "raw = mne.io.read_raw_edf(\"dataset/chb-mit-scalp-eeg-database-1.0.0/chb01/chb01_03.edf\")\n",
    "raw.load_data()"
   ]
  },
  {
   "cell_type": "code",
   "execution_count": 3,
   "metadata": {},
   "outputs": [
    {
     "name": "stdout",
     "output_type": "stream",
     "text": [
      "Filtering raw data in 1 contiguous segment\n",
      "Setting up band-pass filter from 4 - 7 Hz\n",
      "\n",
      "FIR filter parameters\n",
      "---------------------\n",
      "Designing a one-pass, zero-phase, non-causal bandpass filter:\n",
      "- Windowed time-domain design (firwin) method\n",
      "- Hamming window with 0.0194 passband ripple and 53 dB stopband attenuation\n",
      "- Lower passband edge: 4.00\n",
      "- Lower transition bandwidth: 1.00 Hz (-6 dB cutoff frequency: 3.50 Hz)\n",
      "- Upper passband edge: 7.00 Hz\n",
      "- Upper transition bandwidth: 1.00 Hz (-6 dB cutoff frequency: 7.50 Hz)\n",
      "- Filter length: 845 samples (3.301 s)\n",
      "\n"
     ]
    },
    {
     "name": "stderr",
     "output_type": "stream",
     "text": [
      "[Parallel(n_jobs=1)]: Done  17 tasks      | elapsed:    0.2s\n"
     ]
    },
    {
     "ename": "TypeError",
     "evalue": "'NoneType' object is not subscriptable",
     "output_type": "error",
     "traceback": [
      "\u001b[1;31m---------------------------------------------------------------------------\u001b[0m",
      "\u001b[1;31mTypeError\u001b[0m                                 Traceback (most recent call last)",
      "\u001b[1;32mc:\\Users\\angus\\Documents\\cs408-eeg-python\\preprocessing-2.ipynb Cell 2\u001b[0m line \u001b[0;36m2\n\u001b[0;32m     <a href='vscode-notebook-cell:/c%3A/Users/angus/Documents/cs408-eeg-python/preprocessing-2.ipynb#W1sZmlsZQ%3D%3D?line=13'>14</a>\u001b[0m raw\u001b[39m.\u001b[39mfilter(\n\u001b[0;32m     <a href='vscode-notebook-cell:/c%3A/Users/angus/Documents/cs408-eeg-python/preprocessing-2.ipynb#W1sZmlsZQ%3D%3D?line=14'>15</a>\u001b[0m     fmin,\n\u001b[0;32m     <a href='vscode-notebook-cell:/c%3A/Users/angus/Documents/cs408-eeg-python/preprocessing-2.ipynb#W1sZmlsZQ%3D%3D?line=15'>16</a>\u001b[0m     fmax,\n\u001b[1;32m   (...)\u001b[0m\n\u001b[0;32m     <a href='vscode-notebook-cell:/c%3A/Users/angus/Documents/cs408-eeg-python/preprocessing-2.ipynb#W1sZmlsZQ%3D%3D?line=18'>19</a>\u001b[0m     h_trans_bandwidth\u001b[39m=\u001b[39m\u001b[39m1\u001b[39m,\n\u001b[0;32m     <a href='vscode-notebook-cell:/c%3A/Users/angus/Documents/cs408-eeg-python/preprocessing-2.ipynb#W1sZmlsZQ%3D%3D?line=19'>20</a>\u001b[0m )  \u001b[39m# in each band and skip \"auto\" option.\u001b[39;00m\n\u001b[0;32m     <a href='vscode-notebook-cell:/c%3A/Users/angus/Documents/cs408-eeg-python/preprocessing-2.ipynb#W1sZmlsZQ%3D%3D?line=21'>22</a>\u001b[0m \u001b[39m# epoch\u001b[39;00m\n\u001b[1;32m---> <a href='vscode-notebook-cell:/c%3A/Users/angus/Documents/cs408-eeg-python/preprocessing-2.ipynb#W1sZmlsZQ%3D%3D?line=22'>23</a>\u001b[0m epochs \u001b[39m=\u001b[39m mne\u001b[39m.\u001b[39;49mEpochs(\n\u001b[0;32m     <a href='vscode-notebook-cell:/c%3A/Users/angus/Documents/cs408-eeg-python/preprocessing-2.ipynb#W1sZmlsZQ%3D%3D?line=23'>24</a>\u001b[0m     raw,\n\u001b[0;32m     <a href='vscode-notebook-cell:/c%3A/Users/angus/Documents/cs408-eeg-python/preprocessing-2.ipynb#W1sZmlsZQ%3D%3D?line=24'>25</a>\u001b[0m     events\u001b[39m=\u001b[39;49m\u001b[39mNone\u001b[39;49;00m,\n\u001b[0;32m     <a href='vscode-notebook-cell:/c%3A/Users/angus/Documents/cs408-eeg-python/preprocessing-2.ipynb#W1sZmlsZQ%3D%3D?line=25'>26</a>\u001b[0m     baseline\u001b[39m=\u001b[39;49mbaseline,\n\u001b[0;32m     <a href='vscode-notebook-cell:/c%3A/Users/angus/Documents/cs408-eeg-python/preprocessing-2.ipynb#W1sZmlsZQ%3D%3D?line=26'>27</a>\u001b[0m     reject\u001b[39m=\u001b[39;49m\u001b[39mdict\u001b[39;49m(grad\u001b[39m=\u001b[39;49m\u001b[39m4000e-13\u001b[39;49m, eog\u001b[39m=\u001b[39;49m\u001b[39m350e-6\u001b[39;49m),\n\u001b[0;32m     <a href='vscode-notebook-cell:/c%3A/Users/angus/Documents/cs408-eeg-python/preprocessing-2.ipynb#W1sZmlsZQ%3D%3D?line=27'>28</a>\u001b[0m     preload\u001b[39m=\u001b[39;49m\u001b[39mTrue\u001b[39;49;00m,\n\u001b[0;32m     <a href='vscode-notebook-cell:/c%3A/Users/angus/Documents/cs408-eeg-python/preprocessing-2.ipynb#W1sZmlsZQ%3D%3D?line=28'>29</a>\u001b[0m )\n\u001b[0;32m     <a href='vscode-notebook-cell:/c%3A/Users/angus/Documents/cs408-eeg-python/preprocessing-2.ipynb#W1sZmlsZQ%3D%3D?line=29'>30</a>\u001b[0m \u001b[39m# remove evoked response\u001b[39;00m\n\u001b[0;32m     <a href='vscode-notebook-cell:/c%3A/Users/angus/Documents/cs408-eeg-python/preprocessing-2.ipynb#W1sZmlsZQ%3D%3D?line=30'>31</a>\u001b[0m epochs\u001b[39m.\u001b[39msubtract_evoked()\n",
      "File \u001b[1;32m<decorator-gen-286>:12\u001b[0m, in \u001b[0;36m__init__\u001b[1;34m(self, raw, events, event_id, tmin, tmax, baseline, picks, preload, reject, flat, proj, decim, reject_tmin, reject_tmax, detrend, on_missing, reject_by_annotation, metadata, event_repeated, verbose)\u001b[0m\n",
      "File \u001b[1;32mc:\\Users\\angus\\Documents\\cs408-eeg-python\\venv\\Lib\\site-packages\\mne\\epochs.py:3087\u001b[0m, in \u001b[0;36mEpochs.__init__\u001b[1;34m(self, raw, events, event_id, tmin, tmax, baseline, picks, preload, reject, flat, proj, decim, reject_tmin, reject_tmax, detrend, on_missing, reject_by_annotation, metadata, event_repeated, verbose)\u001b[0m\n\u001b[0;32m   3084\u001b[0m raw_sfreq \u001b[39m=\u001b[39m raw\u001b[39m.\u001b[39minfo[\u001b[39m\"\u001b[39m\u001b[39msfreq\u001b[39m\u001b[39m\"\u001b[39m]\n\u001b[0;32m   3086\u001b[0m \u001b[39m# call BaseEpochs constructor\u001b[39;00m\n\u001b[1;32m-> 3087\u001b[0m \u001b[39msuper\u001b[39;49m(Epochs, \u001b[39mself\u001b[39;49m)\u001b[39m.\u001b[39;49m\u001b[39m__init__\u001b[39;49m(\n\u001b[0;32m   3088\u001b[0m     info,\n\u001b[0;32m   3089\u001b[0m     \u001b[39mNone\u001b[39;49;00m,\n\u001b[0;32m   3090\u001b[0m     events,\n\u001b[0;32m   3091\u001b[0m     event_id,\n\u001b[0;32m   3092\u001b[0m     tmin,\n\u001b[0;32m   3093\u001b[0m     tmax,\n\u001b[0;32m   3094\u001b[0m     metadata\u001b[39m=\u001b[39;49mmetadata,\n\u001b[0;32m   3095\u001b[0m     baseline\u001b[39m=\u001b[39;49mbaseline,\n\u001b[0;32m   3096\u001b[0m     raw\u001b[39m=\u001b[39;49mraw,\n\u001b[0;32m   3097\u001b[0m     picks\u001b[39m=\u001b[39;49mpicks,\n\u001b[0;32m   3098\u001b[0m     reject\u001b[39m=\u001b[39;49mreject,\n\u001b[0;32m   3099\u001b[0m     flat\u001b[39m=\u001b[39;49mflat,\n\u001b[0;32m   3100\u001b[0m     decim\u001b[39m=\u001b[39;49mdecim,\n\u001b[0;32m   3101\u001b[0m     reject_tmin\u001b[39m=\u001b[39;49mreject_tmin,\n\u001b[0;32m   3102\u001b[0m     reject_tmax\u001b[39m=\u001b[39;49mreject_tmax,\n\u001b[0;32m   3103\u001b[0m     detrend\u001b[39m=\u001b[39;49mdetrend,\n\u001b[0;32m   3104\u001b[0m     proj\u001b[39m=\u001b[39;49mproj,\n\u001b[0;32m   3105\u001b[0m     on_missing\u001b[39m=\u001b[39;49mon_missing,\n\u001b[0;32m   3106\u001b[0m     preload_at_end\u001b[39m=\u001b[39;49mpreload,\n\u001b[0;32m   3107\u001b[0m     event_repeated\u001b[39m=\u001b[39;49mevent_repeated,\n\u001b[0;32m   3108\u001b[0m     verbose\u001b[39m=\u001b[39;49mverbose,\n\u001b[0;32m   3109\u001b[0m     raw_sfreq\u001b[39m=\u001b[39;49mraw_sfreq,\n\u001b[0;32m   3110\u001b[0m     annotations\u001b[39m=\u001b[39;49mraw\u001b[39m.\u001b[39;49mannotations,\n\u001b[0;32m   3111\u001b[0m )\n",
      "File \u001b[1;32m<decorator-gen-272>:12\u001b[0m, in \u001b[0;36m__init__\u001b[1;34m(self, info, data, events, event_id, tmin, tmax, baseline, raw, picks, reject, flat, decim, reject_tmin, reject_tmax, detrend, proj, on_missing, preload_at_end, selection, drop_log, filename, metadata, event_repeated, raw_sfreq, annotations, verbose)\u001b[0m\n",
      "File \u001b[1;32mc:\\Users\\angus\\Documents\\cs408-eeg-python\\venv\\Lib\\site-packages\\mne\\epochs.py:491\u001b[0m, in \u001b[0;36mBaseEpochs.__init__\u001b[1;34m(self, info, data, events, event_id, tmin, tmax, baseline, raw, picks, reject, flat, decim, reject_tmin, reject_tmax, detrend, proj, on_missing, preload_at_end, selection, drop_log, filename, metadata, event_repeated, raw_sfreq, annotations, verbose)\u001b[0m\n\u001b[0;32m    486\u001b[0m     \u001b[39mif\u001b[39;00m events_max \u001b[39m>\u001b[39m INT32_MAX:\n\u001b[0;32m    487\u001b[0m         \u001b[39mraise\u001b[39;00m \u001b[39mValueError\u001b[39;00m(\n\u001b[0;32m    488\u001b[0m             \u001b[39mf\u001b[39m\u001b[39m\"\u001b[39m\u001b[39mevents array values must not exceed \u001b[39m\u001b[39m{\u001b[39;00mINT32_MAX\u001b[39m}\u001b[39;00m\u001b[39m, \u001b[39m\u001b[39m\"\u001b[39m\n\u001b[0;32m    489\u001b[0m             \u001b[39mf\u001b[39m\u001b[39m\"\u001b[39m\u001b[39mgot \u001b[39m\u001b[39m{\u001b[39;00mevents_max\u001b[39m}\u001b[39;00m\u001b[39m\"\u001b[39m\n\u001b[0;32m    490\u001b[0m         )\n\u001b[1;32m--> 491\u001b[0m event_id \u001b[39m=\u001b[39m _check_event_id(event_id, events)\n\u001b[0;32m    492\u001b[0m \u001b[39mself\u001b[39m\u001b[39m.\u001b[39mevent_id \u001b[39m=\u001b[39m event_id\n\u001b[0;32m    493\u001b[0m \u001b[39mdel\u001b[39;00m event_id\n",
      "File \u001b[1;32mc:\\Users\\angus\\Documents\\cs408-eeg-python\\venv\\Lib\\site-packages\\mne\\utils\\check.py:207\u001b[0m, in \u001b[0;36m_check_event_id\u001b[1;34m(event_id, events)\u001b[0m\n\u001b[0;32m    205\u001b[0m \u001b[39m# check out event_id dict\u001b[39;00m\n\u001b[0;32m    206\u001b[0m \u001b[39mif\u001b[39;00m event_id \u001b[39mis\u001b[39;00m \u001b[39mNone\u001b[39;00m:  \u001b[39m# convert to int to make typing-checks happy\u001b[39;00m\n\u001b[1;32m--> 207\u001b[0m     event_id \u001b[39m=\u001b[39m \u001b[39mlist\u001b[39m(np\u001b[39m.\u001b[39munique(events[:, \u001b[39m2\u001b[39;49m]))\n\u001b[0;32m    208\u001b[0m \u001b[39mif\u001b[39;00m \u001b[39misinstance\u001b[39m(event_id, \u001b[39mdict\u001b[39m):\n\u001b[0;32m    209\u001b[0m     \u001b[39mfor\u001b[39;00m key \u001b[39min\u001b[39;00m event_id\u001b[39m.\u001b[39mkeys():\n",
      "\u001b[1;31mTypeError\u001b[0m: 'NoneType' object is not subscriptable"
     ]
    }
   ],
   "source": [
    "iter_freqs = [(\"Theta\", 4, 7), (\"Alpha\", 8, 12), (\"Beta\", 13, 25), (\"Gamma\", 30, 45)]\n",
    "# set epoching parameters\n",
    "baseline = None\n",
    "\n",
    "# get the header to extract events\n",
    "\n",
    "frequency_map = list()\n",
    "\n",
    "for band, fmin, fmax in iter_freqs:\n",
    "    # (re)load the data to save memory\n",
    "    raw.load_data()\n",
    "\n",
    "    # bandpass filter\n",
    "    raw.filter(\n",
    "        fmin,\n",
    "        fmax,\n",
    "        n_jobs=None,  # use more jobs to speed up.\n",
    "        l_trans_bandwidth=1,  # make sure filter params are the same\n",
    "        h_trans_bandwidth=1,\n",
    "    )  # in each band and skip \"auto\" option.\n",
    "\n",
    "    # epoch\n",
    "    epochs = mne.Epochs(\n",
    "        raw,\n",
    "        events=None,\n",
    "        baseline=baseline,\n",
    "        reject=dict(grad=4000e-13, eog=350e-6),\n",
    "        preload=True,\n",
    "    )\n",
    "    # remove evoked response\n",
    "    epochs.subtract_evoked()\n",
    "\n",
    "    # get analytic signal (envelope)\n",
    "    epochs.apply_hilbert(envelope=True)\n",
    "    frequency_map.append(((band, fmin, fmax), epochs.average()))\n",
    "    del epochs\n",
    "del raw"
   ]
  }
 ],
 "metadata": {
  "kernelspec": {
   "display_name": "venv",
   "language": "python",
   "name": "python3"
  },
  "language_info": {
   "codemirror_mode": {
    "name": "ipython",
    "version": 3
   },
   "file_extension": ".py",
   "mimetype": "text/x-python",
   "name": "python",
   "nbconvert_exporter": "python",
   "pygments_lexer": "ipython3",
   "version": "3.7.9"
  }
 },
 "nbformat": 4,
 "nbformat_minor": 2
}
