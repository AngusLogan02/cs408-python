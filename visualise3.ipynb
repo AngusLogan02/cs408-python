{
 "cells": [
  {
   "cell_type": "code",
   "execution_count": 1,
   "metadata": {},
   "outputs": [],
   "source": [
    "%load_ext autoreload\n",
    "%autoreload 2"
   ]
  },
  {
   "cell_type": "code",
   "execution_count": 2,
   "metadata": {},
   "outputs": [],
   "source": [
    "from keras import backend as K\n",
    "from tensorflow import keras\n",
    "\n",
    "import numpy as np\n",
    "import os\n",
    "\n",
    "from matplotlib import pyplot as plt"
   ]
  },
  {
   "cell_type": "code",
   "execution_count": 6,
   "metadata": {},
   "outputs": [
    {
     "name": "stdout",
     "output_type": "stream",
     "text": [
      "(23, 256)\n"
     ]
    }
   ],
   "source": [
    "model = keras.models.load_model(\"models/new_arch/chb02_threshold_0.887_false_neg_0_true_neg_3115_false_pos_364_true_pos_39_accuracy_90_regularised.h5\")\n",
    "ictal_data = np.load(\"ml_processed_balanced/chb02_16+.edf_data.npy\")\n",
    "ictal_labels = np.load(\"ml_processed_balanced/chb02_16+.edf_labels.npy\")\n",
    "\n",
    "ictal_true = ictal_data[120]\n",
    "print(ictal_true.shape)\n",
    "ictal_false = ictal_data[30]"
   ]
  },
  {
   "cell_type": "code",
   "execution_count": 5,
   "metadata": {},
   "outputs": [],
   "source": [
    "get_activations = K.function([model.layers[0].input], [model.layers[i].output for i in range(len(model.layers))])"
   ]
  },
  {
   "cell_type": "code",
   "execution_count": 24,
   "metadata": {},
   "outputs": [
    {
     "name": "stdout",
     "output_type": "stream",
     "text": [
      "chb01_threshold_0.301_false_neg_5_true_neg_1695_false_pos_1825_true_pos_34_accuracy_49_regularised.png\n",
      "75\n",
      "chb02_threshold_0.887_false_neg_0_true_neg_3115_false_pos_364_true_pos_39_accuracy_90_regularised.png\n",
      "74\n",
      "chb03_threshold_0.2_false_neg_2_true_neg_1459_false_pos_2049_true_pos_37_accuracy_42_regularised.png\n",
      "73\n",
      "chb05_threshold_0.991_false_neg_0_true_neg_2436_false_pos_1009_true_pos_39_accuracy_71_regularised.png\n",
      "75\n",
      "chb06_threshold_0.336_false_neg_1_true_neg_8368_false_pos_5973_true_pos_69_accuracy_59_regularised.png\n",
      "75\n",
      "chb08_threshold_0.941_false_neg_0_true_neg_2295_false_pos_1094_true_pos_39_accuracy_68_regularised.png\n",
      "75\n",
      "chb09_threshold_0.999_false_neg_0_true_neg_8309_false_pos_5986_true_pos_39_accuracy_58_regularised.png\n",
      "75\n",
      "chb10_threshold_0.365_false_neg_1_true_neg_4164_false_pos_2961_true_pos_38_accuracy_59_regularised.png\n",
      "75\n",
      "chb10_threshold_0.532_false_neg_0_true_neg_3735_false_pos_3390_true_pos_39_accuracy_53_regularised.png\n",
      "75\n",
      "chb11_threshold_0.997_false_neg_0_true_neg_2646_false_pos_892_true_pos_39_accuracy_75_regularised.png\n",
      "74\n",
      "chb12_threshold_0.222_false_neg_2_true_neg_1566_false_pos_1906_true_pos_76_accuracy_46_regularised.png\n",
      "75\n",
      "chb13_threshold_0.934_false_neg_0_true_neg_2738_false_pos_778_true_pos_39_accuracy_78_regularised.png\n",
      "74\n",
      "chb14_threshold_0.694_false_neg_0_true_neg_1898_false_pos_1648_true_pos_39_accuracy_54_regularised.png\n",
      "75\n",
      "chb16_threshold_0.666_false_neg_0_true_neg_2056_false_pos_1495_true_pos_39_accuracy_58_regularised.png\n",
      "75\n",
      "chb19_threshold_0.992_false_neg_0_true_neg_1773_false_pos_1721_true_pos_39_accuracy_51_regularised.png\n",
      "75\n",
      "chb21_threshold_0.829_false_neg_0_true_neg_2475_false_pos_1029_true_pos_39_accuracy_71_regularised.png\n",
      "75\n",
      "chb22_threshold_0.999_false_neg_0_true_neg_2565_false_pos_937_true_pos_39_accuracy_74_regularised.png\n",
      "74\n",
      "chb23_threshold_0.411_false_neg_0_true_neg_520_false_pos_6813_true_pos_39_accuracy_8_regularised.png\n",
      "74\n",
      "chb24_threshold_0.59_false_neg_0_true_neg_1995_false_pos_1540_true_pos_39_accuracy_57_regularised.png\n",
      "74\n"
     ]
    }
   ],
   "source": [
    "from data import get_seizure_data\n",
    "\n",
    "x = []\n",
    "y = []\n",
    "for file in os.listdir(\"graphs/new_arch/\"):\n",
    "    print(file)\n",
    "    print(file.find(\"accuracy_\"))\n",
    "    accuracy_idx = file.find(\"accuracy_\")\n",
    "    value = f\"{file[-18]}{file[-17]}\"\n",
    "    if value == \"_8\":\n",
    "          value = \"8\"\n",
    "    y.append(int(value))\n",
    "    datas = get_seizure_data(file[0:5])\n",
    "    case_seizure_count = 0\n",
    "    for data in datas:\n",
    "            case_seizure_count += data.seizure_count\n",
    "    x.append(case_seizure_count)"
   ]
  },
  {
   "cell_type": "code",
   "execution_count": 39,
   "metadata": {},
   "outputs": [
    {
     "data": {
      "image/png": "[encoded data removed]",
      "text/plain": [
       "<Figure size 640x480 with 1 Axes>"
      ]
     },
     "metadata": {},
     "output_type": "display_data"
    }
   ],
   "source": [
    "m, b = np.polyfit(x, y, 1)\n",
    "plt.clf()\n",
    "regression_line = [m * i + b for i in x]\n",
    "plt.plot(x, regression_line, color=\"red\")\n",
    "plt.scatter(x, y, marker=\"x\", s=30)\n",
    "\n",
    "\n",
    "plt.xlabel(\"Seizure Count\")\n",
    "plt.ylabel(\"Accuracy %\")\n",
    "plt.show()"
   ]
  }
 ],
 "metadata": {
  "kernelspec": {
   "display_name": "venv3.7",
   "language": "python",
   "name": "python3"
  },
  "language_info": {
   "codemirror_mode": {
    "name": "ipython",
    "version": 3
   },
   "file_extension": ".py",
   "mimetype": "text/x-python",
   "name": "python",
   "nbconvert_exporter": "python",
   "pygments_lexer": "ipython3",
   "version": "3.7.9"
  }
 },
 "nbformat": 4,
 "nbformat_minor": 2
}
