{
 "cells": [
  {
   "cell_type": "code",
   "execution_count": 2,
   "metadata": {},
   "outputs": [],
   "source": [
    "%load_ext autoreload\n",
    "%autoreload 2"
   ]
  },
  {
   "cell_type": "code",
   "execution_count": 3,
   "metadata": {},
   "outputs": [],
   "source": [
    "from keras.models import Sequential\n",
    "from keras.layers import Input, Conv1D, MaxPool1D, LSTM, Dense, Dropout\n",
    "\n",
    "from keras import backend as K\n",
    "from tensorflow import keras\n",
    "\n",
    "import numpy as np"
   ]
  },
  {
   "cell_type": "code",
   "execution_count": 4,
   "metadata": {},
   "outputs": [],
   "source": [
    "import os\n",
    "from data import generate_train_data\n",
    "\n",
    "cases = [x for x in os.listdir(\"dataset/chb-mit-scalp-eeg-database-1.0.0/\") if \"chb\" in x]\n",
    "# cases = [\"chb01\", \"chb02\"]\n",
    "# generate_train_data(sequence_length=256, stride=256, cases=cases)"
   ]
  },
  {
   "cell_type": "code",
   "execution_count": 41,
   "metadata": {},
   "outputs": [],
   "source": [
    "from seizure_sequence import SeizureSequence\n",
    "from preprocessor import PreProcessor\n",
    "\n",
    "p = PreProcessor(wavelet=\"db4\")\n",
    "seizure_sequence = SeizureSequence(1, \"ml_processed_balanced\", cases, bias_positive=False, preprocessor=p)\n",
    "data, labels = seizure_sequence.__getitem__(1)\n",
    "# for inddata in data:\n",
    "#     if inddata.shape != (23, 256):\n",
    "#         print(inddata.shape)"
   ]
  },
  {
   "cell_type": "code",
   "execution_count": 7,
   "metadata": {},
   "outputs": [],
   "source": [
    "def create_model():\n",
    "    model = Sequential()\n",
    "\n",
    "    model.add(Input((23, 256, )))\n",
    "    model.add(Conv1D(512, kernel_size=3, activation=\"relu\"))\n",
    "    model.add(MaxPool1D())\n",
    "    model.add(Conv1D(256, kernel_size=3, activation=\"relu\"))\n",
    "    model.add(MaxPool1D())\n",
    "    model.add(Conv1D(128, kernel_size=3, activation=\"relu\"))\n",
    "    model.add(MaxPool1D())\n",
    "    # model.add(LSTM(64, activation=\"tanh\"))\n",
    "    model.add(Dense(64, activation=\"relu\"))\n",
    "    model.add(Dense(1, activation=\"sigmoid\"))\n",
    "\n",
    "    return model\n",
    "\n",
    "model = create_model()"
   ]
  },
  {
   "cell_type": "code",
   "execution_count": 8,
   "metadata": {},
   "outputs": [
    {
     "name": "stdout",
     "output_type": "stream",
     "text": [
      "Model: \"sequential\"\n",
      "_________________________________________________________________\n",
      " Layer (type)                Output Shape              Param #   \n",
      "=================================================================\n",
      " conv1d (Conv1D)             (None, 21, 512)           393728    \n",
      "                                                                 \n",
      " max_pooling1d (MaxPooling1D  (None, 10, 512)          0         \n",
      " )                                                               \n",
      "                                                                 \n",
      " conv1d_1 (Conv1D)           (None, 8, 256)            393472    \n",
      "                                                                 \n",
      " max_pooling1d_1 (MaxPooling  (None, 4, 256)           0         \n",
      " 1D)                                                             \n",
      "                                                                 \n",
      " conv1d_2 (Conv1D)           (None, 2, 128)            98432     \n",
      "                                                                 \n",
      " max_pooling1d_2 (MaxPooling  (None, 1, 128)           0         \n",
      " 1D)                                                             \n",
      "                                                                 \n",
      " dense (Dense)               (None, 1, 64)             8256      \n",
      "                                                                 \n",
      " dense_1 (Dense)             (None, 1, 1)              65        \n",
      "                                                                 \n",
      "=================================================================\n",
      "Total params: 893,953\n",
      "Trainable params: 893,953\n",
      "Non-trainable params: 0\n",
      "_________________________________________________________________\n"
     ]
    }
   ],
   "source": [
    "model.compile(optimizer=\"adam\", loss=\"binary_crossentropy\", metrics=[\"accuracy\"])\n",
    "model.summary()"
   ]
  },
  {
   "cell_type": "code",
   "execution_count": 18,
   "metadata": {},
   "outputs": [
    {
     "name": "stdout",
     "output_type": "stream",
     "text": [
      "184/184 [==============================] - 2s 10ms/step - loss: 0.0794 - accuracy: 0.9719\n"
     ]
    }
   ],
   "source": [
    "# tf_dataset = seizure_sequence.create_tf_dataset()\n",
    "history = model.fit(seizure_sequence, epochs=1)"
   ]
  },
  {
   "cell_type": "markdown",
   "metadata": {},
   "source": [
    "after 500 epochs of training on the balanced dataset with 885k params (all conv), accuracy is 94.9%\n",
    "\n",
    "after 500 epochs of training on the balanced dataset with 935k params (conv, 1 64 LSTM layer), accuracy is 98.5%"
   ]
  },
  {
   "cell_type": "code",
   "execution_count": 19,
   "metadata": {},
   "outputs": [
    {
     "data": {
      "image/png": "[encoded data removed]",
      "text/plain": [
       "<Figure size 1200x400 with 2 Axes>"
      ]
     },
     "metadata": {},
     "output_type": "display_data"
    }
   ],
   "source": [
    "import matplotlib.pyplot as plt\n",
    "# Plotting accuracy and loss over epochs\n",
    "plt.figure(figsize=(12, 4))\n",
    "\n",
    "# Plotting accuracy\n",
    "plt.subplot(1, 2, 1)\n",
    "plt.plot(history.history['accuracy'])\n",
    "plt.title('Model Accuracy')\n",
    "plt.xlabel('Epochs')\n",
    "plt.ylabel('Accuracy')\n",
    "\n",
    "# Plotting loss\n",
    "plt.subplot(1, 2, 2)\n",
    "plt.plot(history.history['loss'])\n",
    "plt.title('Model Loss')\n",
    "plt.xlabel('Epochs')\n",
    "plt.ylabel('Loss')\n",
    "\n",
    "plt.tight_layout()\n",
    "plt.show()"
   ]
  },
  {
   "cell_type": "code",
   "execution_count": 31,
   "metadata": {},
   "outputs": [
    {
     "name": "stdout",
     "output_type": "stream",
     "text": [
      "1/1 [==============================] - 0s 21ms/step\n",
      "1/1 [==============================] - 0s 37ms/step\n",
      "1/1 [==============================] - 0s 24ms/step\n",
      "1/1 [==============================] - 0s 20ms/step\n",
      "1/1 [==============================] - 0s 19ms/step\n",
      "1/1 [==============================] - 0s 18ms/step\n",
      "1/1 [==============================] - 0s 22ms/step\n",
      "1/1 [==============================] - 0s 17ms/step\n",
      "1/1 [==============================] - 0s 23ms/step\n",
      "1/1 [==============================] - 0s 17ms/step\n",
      "1/1 [==============================] - 0s 22ms/step\n",
      "1/1 [==============================] - 0s 21ms/step\n",
      "1/1 [==============================] - 0s 21ms/step\n",
      "1/1 [==============================] - 0s 17ms/step\n",
      "1/1 [==============================] - 0s 24ms/step\n",
      "1/1 [==============================] - 0s 16ms/step\n",
      "1/1 [==============================] - 0s 23ms/step\n",
      "1/1 [==============================] - 0s 19ms/step\n",
      "1/1 [==============================] - 0s 20ms/step\n",
      "1/1 [==============================] - 0s 16ms/step\n",
      "1/1 [==============================] - 0s 24ms/step\n",
      "1/1 [==============================] - 0s 17ms/step\n",
      "1/1 [==============================] - 0s 18ms/step\n",
      "1/1 [==============================] - 0s 22ms/step\n",
      "1/1 [==============================] - 0s 17ms/step\n",
      "1/1 [==============================] - 0s 21ms/step\n",
      "1/1 [==============================] - 0s 17ms/step\n",
      "1/1 [==============================] - 0s 17ms/step\n",
      "1/1 [==============================] - 0s 17ms/step\n",
      "1/1 [==============================] - 0s 21ms/step\n",
      "1/1 [==============================] - 0s 16ms/step\n",
      "1/1 [==============================] - 0s 18ms/step\n",
      "1/1 [==============================] - 0s 21ms/step\n",
      "1/1 [==============================] - 0s 22ms/step\n",
      "1/1 [==============================] - 0s 17ms/step\n",
      "1/1 [==============================] - 0s 18ms/step\n",
      "1/1 [==============================] - 0s 17ms/step\n",
      "1/1 [==============================] - 0s 22ms/step\n",
      "1/1 [==============================] - 0s 18ms/step\n",
      "1/1 [==============================] - 0s 18ms/step\n"
     ]
    }
   ],
   "source": [
    "data = np.load(\"ml_processed/chb01_03.edf_data.npy\")\n",
    "labels = np.load(\"ml_processed/chb01_03.edf_labels.npy\")\n",
    "# for i in range(0, len(labels)):\n",
    "#     if labels[i][0] == 1:\n",
    "#         print(i)\n",
    "# print(data.shape)\n",
    "known_seizures = data[3000:3020]\n",
    "# print(known_seizures.shape)\n",
    "known_seizure_label = labels[3000:3020]\n",
    "for label in known_seizure_label:\n",
    "    if label == 0:\n",
    "        print(\"OOPS\")\n",
    "\n",
    "seizure_guesses = []\n",
    "for known_seizure in known_seizures:\n",
    "    # print(known_seizure.shape)\n",
    "    reshaped = np.reshape(known_seizure, (-1, 23, 256))\n",
    "    guess = model.predict(reshaped)\n",
    "    if guess[0][0][0] > 0.4:\n",
    "        seizure_guesses.append((guess[0][0][0], 1))\n",
    "    else:\n",
    "        seizure_guesses.append((guess[0][0][0], 0))\n",
    "\n",
    "known_normal = data[0:20]\n",
    "# print(known_seizures.shape)\n",
    "known_normal_label = labels[0:20]\n",
    "for label in known_normal_label:\n",
    "    if label == 1:\n",
    "        print(\"OOPS\")\n",
    "\n",
    "\n",
    "normal_guesses = []\n",
    "for known_normal in known_normal:\n",
    "    # print(known_seizure.shape)\n",
    "    reshaped = np.reshape(known_normal, (-1, 23, 256))\n",
    "    guess = model.predict(reshaped)\n",
    "    if guess > 0.4:\n",
    "        normal_guesses.append((guess[0][0][0], 1))\n",
    "    else:\n",
    "        normal_guesses.append((guess[0][0][0], 0))"
   ]
  },
  {
   "cell_type": "code",
   "execution_count": 34,
   "metadata": {},
   "outputs": [
    {
     "name": "stdout",
     "output_type": "stream",
     "text": [
      "[(1.0, 1), (1.0, 1), (1.0, 1), (1.0, 1), (1.0, 1), (1.0, 1), (1.0, 1), (0.9997178, 1), (0.9993801, 1), (0.9999583, 1), (0.999997, 1), (0.9942365, 1), (0.9994636, 1), (0.9995732, 1), (0.99848026, 1), (0.9999999, 1), (1.0, 1), (0.99999714, 1), (0.9994487, 1), (1.0, 1)]\n",
      "[(0.01409787, 0), (0.0018650282, 0), (0.0012986226, 0), (0.0129272435, 0), (0.0038680271, 0), (0.005158884, 0), (0.0027653961, 0), (0.0021415632, 0), (0.00011696083, 0), (0.00035668066, 0), (0.0017261656, 0), (0.0052052285, 0), (0.00032098882, 0), (0.0004237193, 0), (0.022003619, 0), (0.07114024, 0), (0.00070355594, 0), (0.0009241222, 0), (0.0005796507, 0), (0.0011063754, 0)]\n"
     ]
    }
   ],
   "source": [
    "print(seizure_guesses)\n",
    "print(normal_guesses)"
   ]
  },
  {
   "cell_type": "markdown",
   "metadata": {},
   "source": [
    "had to drop chb12-27, the sensors changed and they are different from everything else."
   ]
  },
  {
   "cell_type": "code",
   "execution_count": 13,
   "metadata": {},
   "outputs": [],
   "source": [
    "# from data import generate_balanced_train_data\n",
    "# import os\n",
    "# cases = [x for x in os.listdir(\"dataset/chb-mit-scalp-eeg-database-1.0.0/\") if \"chb\" in x]\n",
    "# generate_balanced_train_data(256,256,cases)"
   ]
  }
 ],
 "metadata": {
  "kernelspec": {
   "display_name": "venv",
   "language": "python",
   "name": "python3"
  },
  "language_info": {
   "codemirror_mode": {
    "name": "ipython",
    "version": 3
   },
   "file_extension": ".py",
   "mimetype": "text/x-python",
   "name": "python",
   "nbconvert_exporter": "python",
   "pygments_lexer": "ipython3",
   "version": "3.7.9"
  }
 },
 "nbformat": 4,
 "nbformat_minor": 2
}
