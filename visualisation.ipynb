{
 "cells": [
  {
   "cell_type": "code",
   "execution_count": 8,
   "metadata": {},
   "outputs": [
    {
     "name": "stdout",
     "output_type": "stream",
     "text": [
      "successfully parsed dataset/chb-mit-scalp-eeg-database-1.0.0/chb01/chb01_01.edf\n",
      "successfully parsed dataset/chb-mit-scalp-eeg-database-1.0.0/chb01/chb01_02.edf\n",
      "Extracting EDF parameters from c:\\Users\\angus\\Documents\\cs408-eeg-python\\dataset\\chb-mit-scalp-eeg-database-1.0.0\\chb01\\chb01_03.edf...\n",
      "EDF file detected\n",
      "Setting channel info structure...\n",
      "Creating raw.info structure...\n",
      "Overwriting existing file.\n",
      "Reading 0 ... 10240  =      0.000 ...    40.000 secs...\n",
      "successfully parsed dataset/chb-mit-scalp-eeg-database-1.0.0/chb01/chb01_03.edf\n",
      "Extracting EDF parameters from c:\\Users\\angus\\Documents\\cs408-eeg-python\\dataset\\chb-mit-scalp-eeg-database-1.0.0\\chb01\\chb01_04.edf...\n",
      "EDF file detected\n",
      "Setting channel info structure...\n",
      "Creating raw.info structure...\n",
      "Overwriting existing file.\n",
      "Reading 0 ... 6912  =      0.000 ...    27.000 secs...\n"
     ]
    },
    {
     "name": "stderr",
     "output_type": "stream",
     "text": [
      "c:\\Users\\angus\\Documents\\cs408-eeg-python\\data.py:68: RuntimeWarning: Channel names are not unique, found duplicates for: {'T8-P8'}. Applying running numbers for duplicates.\n",
      "  raw_file = mne.io.read_raw_edf(file)\n",
      "C:\\Users\\angus\\AppData\\Local\\Temp\\ipykernel_7808\\3419303465.py:10: RuntimeWarning: EDF format requires equal-length data blocks, so 0.99609375 seconds of zeros were appended to all channels when writing the final block.\n",
      "  seizure_window.export(filepath + filename, overwrite=True)\n",
      "c:\\Users\\angus\\Documents\\cs408-eeg-python\\data.py:68: RuntimeWarning: Channel names are not unique, found duplicates for: {'T8-P8'}. Applying running numbers for duplicates.\n",
      "  raw_file = mne.io.read_raw_edf(file)\n"
     ]
    },
    {
     "name": "stdout",
     "output_type": "stream",
     "text": [
      "successfully parsed dataset/chb-mit-scalp-eeg-database-1.0.0/chb01/chb01_04.edf\n",
      "successfully parsed dataset/chb-mit-scalp-eeg-database-1.0.0/chb01/chb01_05.edf\n",
      "successfully parsed dataset/chb-mit-scalp-eeg-database-1.0.0/chb01/chb01_06.edf\n",
      "successfully parsed dataset/chb-mit-scalp-eeg-database-1.0.0/chb01/chb01_07.edf\n",
      "successfully parsed dataset/chb-mit-scalp-eeg-database-1.0.0/chb01/chb01_08.edf\n",
      "successfully parsed dataset/chb-mit-scalp-eeg-database-1.0.0/chb01/chb01_09.edf\n",
      "successfully parsed dataset/chb-mit-scalp-eeg-database-1.0.0/chb01/chb01_10.edf\n",
      "successfully parsed dataset/chb-mit-scalp-eeg-database-1.0.0/chb01/chb01_11.edf\n",
      "successfully parsed dataset/chb-mit-scalp-eeg-database-1.0.0/chb01/chb01_12.edf\n",
      "successfully parsed dataset/chb-mit-scalp-eeg-database-1.0.0/chb01/chb01_13.edf\n",
      "successfully parsed dataset/chb-mit-scalp-eeg-database-1.0.0/chb01/chb01_14.edf\n",
      "Extracting EDF parameters from c:\\Users\\angus\\Documents\\cs408-eeg-python\\dataset\\chb-mit-scalp-eeg-database-1.0.0\\chb01\\chb01_15.edf...\n",
      "EDF file detected\n",
      "Setting channel info structure...\n",
      "Creating raw.info structure...\n",
      "Overwriting existing file.\n",
      "Reading 0 ... 10240  =      0.000 ...    40.000 secs...\n",
      "successfully parsed dataset/chb-mit-scalp-eeg-database-1.0.0/chb01/chb01_15.edf\n",
      "Extracting EDF parameters from c:\\Users\\angus\\Documents\\cs408-eeg-python\\dataset\\chb-mit-scalp-eeg-database-1.0.0\\chb01\\chb01_16.edf...\n",
      "EDF file detected\n",
      "Setting channel info structure...\n",
      "Creating raw.info structure...\n",
      "Overwriting existing file.\n",
      "Reading 0 ... 13056  =      0.000 ...    51.000 secs...\n"
     ]
    },
    {
     "name": "stderr",
     "output_type": "stream",
     "text": [
      "C:\\Users\\angus\\AppData\\Local\\Temp\\ipykernel_7808\\3419303465.py:10: RuntimeWarning: EDF format requires equal-length data blocks, so 0.99609375 seconds of zeros were appended to all channels when writing the final block.\n",
      "  seizure_window.export(filepath + filename, overwrite=True)\n",
      "c:\\Users\\angus\\Documents\\cs408-eeg-python\\data.py:68: RuntimeWarning: Channel names are not unique, found duplicates for: {'T8-P8'}. Applying running numbers for duplicates.\n",
      "  raw_file = mne.io.read_raw_edf(file)\n",
      "C:\\Users\\angus\\AppData\\Local\\Temp\\ipykernel_7808\\3419303465.py:10: RuntimeWarning: EDF format requires equal-length data blocks, so 0.99609375 seconds of zeros were appended to all channels when writing the final block.\n",
      "  seizure_window.export(filepath + filename, overwrite=True)\n",
      "c:\\Users\\angus\\Documents\\cs408-eeg-python\\data.py:68: RuntimeWarning: Channel names are not unique, found duplicates for: {'T8-P8'}. Applying running numbers for duplicates.\n",
      "  raw_file = mne.io.read_raw_edf(file)\n"
     ]
    },
    {
     "name": "stdout",
     "output_type": "stream",
     "text": [
      "successfully parsed dataset/chb-mit-scalp-eeg-database-1.0.0/chb01/chb01_16.edf\n",
      "successfully parsed dataset/chb-mit-scalp-eeg-database-1.0.0/chb01/chb01_17.edf\n",
      "Extracting EDF parameters from c:\\Users\\angus\\Documents\\cs408-eeg-python\\dataset\\chb-mit-scalp-eeg-database-1.0.0\\chb01\\chb01_18.edf...\n",
      "EDF file detected\n",
      "Setting channel info structure...\n",
      "Creating raw.info structure...\n",
      "Overwriting existing file.\n",
      "Reading 0 ... 23040  =      0.000 ...    90.000 secs...\n"
     ]
    },
    {
     "name": "stderr",
     "output_type": "stream",
     "text": [
      "C:\\Users\\angus\\AppData\\Local\\Temp\\ipykernel_7808\\3419303465.py:10: RuntimeWarning: EDF format requires equal-length data blocks, so 0.99609375 seconds of zeros were appended to all channels when writing the final block.\n",
      "  seizure_window.export(filepath + filename, overwrite=True)\n",
      "c:\\Users\\angus\\Documents\\cs408-eeg-python\\data.py:68: RuntimeWarning: Channel names are not unique, found duplicates for: {'T8-P8'}. Applying running numbers for duplicates.\n",
      "  raw_file = mne.io.read_raw_edf(file)\n"
     ]
    },
    {
     "name": "stdout",
     "output_type": "stream",
     "text": [
      "successfully parsed dataset/chb-mit-scalp-eeg-database-1.0.0/chb01/chb01_18.edf\n",
      "successfully parsed dataset/chb-mit-scalp-eeg-database-1.0.0/chb01/chb01_19.edf\n",
      "successfully parsed dataset/chb-mit-scalp-eeg-database-1.0.0/chb01/chb01_20.edf\n",
      "Extracting EDF parameters from c:\\Users\\angus\\Documents\\cs408-eeg-python\\dataset\\chb-mit-scalp-eeg-database-1.0.0\\chb01\\chb01_21.edf...\n",
      "EDF file detected\n",
      "Setting channel info structure...\n",
      "Creating raw.info structure...\n",
      "Overwriting existing file.\n",
      "Reading 0 ... 23808  =      0.000 ...    93.000 secs...\n"
     ]
    },
    {
     "name": "stderr",
     "output_type": "stream",
     "text": [
      "C:\\Users\\angus\\AppData\\Local\\Temp\\ipykernel_7808\\3419303465.py:10: RuntimeWarning: EDF format requires equal-length data blocks, so 0.99609375 seconds of zeros were appended to all channels when writing the final block.\n",
      "  seizure_window.export(filepath + filename, overwrite=True)\n",
      "c:\\Users\\angus\\Documents\\cs408-eeg-python\\data.py:68: RuntimeWarning: Channel names are not unique, found duplicates for: {'T8-P8'}. Applying running numbers for duplicates.\n",
      "  raw_file = mne.io.read_raw_edf(file)\n"
     ]
    },
    {
     "name": "stdout",
     "output_type": "stream",
     "text": [
      "successfully parsed dataset/chb-mit-scalp-eeg-database-1.0.0/chb01/chb01_21.edf\n",
      "successfully parsed dataset/chb-mit-scalp-eeg-database-1.0.0/chb01/chb01_22.edf\n",
      "successfully parsed dataset/chb-mit-scalp-eeg-database-1.0.0/chb01/chb01_23.edf\n",
      "successfully parsed dataset/chb-mit-scalp-eeg-database-1.0.0/chb01/chb01_24.edf\n",
      "successfully parsed dataset/chb-mit-scalp-eeg-database-1.0.0/chb01/chb01_25.edf\n",
      "Extracting EDF parameters from c:\\Users\\angus\\Documents\\cs408-eeg-python\\dataset\\chb-mit-scalp-eeg-database-1.0.0\\chb01\\chb01_26.edf...\n",
      "EDF file detected\n",
      "Setting channel info structure...\n",
      "Creating raw.info structure...\n",
      "Overwriting existing file.\n",
      "Reading 0 ... 25856  =      0.000 ...   101.000 secs...\n"
     ]
    },
    {
     "name": "stderr",
     "output_type": "stream",
     "text": [
      "C:\\Users\\angus\\AppData\\Local\\Temp\\ipykernel_7808\\3419303465.py:10: RuntimeWarning: EDF format requires equal-length data blocks, so 0.99609375 seconds of zeros were appended to all channels when writing the final block.\n",
      "  seizure_window.export(filepath + filename, overwrite=True)\n",
      "c:\\Users\\angus\\Documents\\cs408-eeg-python\\data.py:68: RuntimeWarning: Channel names are not unique, found duplicates for: {'T8-P8'}. Applying running numbers for duplicates.\n",
      "  raw_file = mne.io.read_raw_edf(file)\n"
     ]
    },
    {
     "name": "stdout",
     "output_type": "stream",
     "text": [
      "successfully parsed dataset/chb-mit-scalp-eeg-database-1.0.0/chb01/chb01_26.edf\n",
      "successfully parsed dataset/chb-mit-scalp-eeg-database-1.0.0/chb01/chb01_27.edf\n",
      "successfully parsed dataset/chb-mit-scalp-eeg-database-1.0.0/chb01/chb01_29.edf\n",
      "successfully parsed dataset/chb-mit-scalp-eeg-database-1.0.0/chb01/chb01_30.edf\n",
      "successfully parsed dataset/chb-mit-scalp-eeg-database-1.0.0/chb01/chb01_31.edf\n",
      "successfully parsed dataset/chb-mit-scalp-eeg-database-1.0.0/chb01/chb01_32.edf\n",
      "successfully parsed dataset/chb-mit-scalp-eeg-database-1.0.0/chb01/chb01_33.edf\n",
      "successfully parsed dataset/chb-mit-scalp-eeg-database-1.0.0/chb01/chb01_34.edf\n",
      "successfully parsed dataset/chb-mit-scalp-eeg-database-1.0.0/chb01/chb01_36.edf\n",
      "successfully parsed dataset/chb-mit-scalp-eeg-database-1.0.0/chb01/chb01_37.edf\n",
      "successfully parsed dataset/chb-mit-scalp-eeg-database-1.0.0/chb01/chb01_38.edf\n",
      "successfully parsed dataset/chb-mit-scalp-eeg-database-1.0.0/chb01/chb01_39.edf\n",
      "successfully parsed dataset/chb-mit-scalp-eeg-database-1.0.0/chb01/chb01_40.edf\n",
      "successfully parsed dataset/chb-mit-scalp-eeg-database-1.0.0/chb01/chb01_41.edf\n",
      "successfully parsed dataset/chb-mit-scalp-eeg-database-1.0.0/chb01/chb01_42.edf\n",
      "successfully parsed dataset/chb-mit-scalp-eeg-database-1.0.0/chb01/chb01_43.edf\n",
      "successfully parsed dataset/chb-mit-scalp-eeg-database-1.0.0/chb01/chb01_46.edf\n"
     ]
    },
    {
     "name": "stderr",
     "output_type": "stream",
     "text": [
      "C:\\Users\\angus\\AppData\\Local\\Temp\\ipykernel_7808\\3419303465.py:10: RuntimeWarning: EDF format requires equal-length data blocks, so 0.99609375 seconds of zeros were appended to all channels when writing the final block.\n",
      "  seizure_window.export(filepath + filename, overwrite=True)\n"
     ]
    }
   ],
   "source": [
    "from data import get_seizure_data, get_time_window\n",
    "\n",
    "cases = get_seizure_data(\"chb01\")\n",
    "for case in cases:\n",
    "    for seizure_number, start_end in case.start_end.items():\n",
    "        seizure_window = get_time_window(case.filename, start_end[0], start_end[1])\n",
    "        filename = case.filename.split(\"/\")[-1].split(\".\")[0]\n",
    "        filename = filename + \"_seizure_\" + str(seizure_number) + \".edf\"\n",
    "        filepath = \"dataset/parsed/seizure/\"\n",
    "        seizure_window.export(filepath + filename, overwrite=True, )\n",
    "    print(\"successfully parsed\", case.filename)\n"
   ]
  }
 ],
 "metadata": {
  "kernelspec": {
   "display_name": "venv",
   "language": "python",
   "name": "python3"
  },
  "language_info": {
   "codemirror_mode": {
    "name": "ipython",
    "version": 3
   },
   "file_extension": ".py",
   "mimetype": "text/x-python",
   "name": "python",
   "nbconvert_exporter": "python",
   "pygments_lexer": "ipython3",
   "version": "3.11.4"
  }
 },
 "nbformat": 4,
 "nbformat_minor": 2
}
